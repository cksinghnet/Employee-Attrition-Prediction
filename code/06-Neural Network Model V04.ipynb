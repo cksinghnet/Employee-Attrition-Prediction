{
 "cells": [
  {
   "cell_type": "code",
   "execution_count": 42,
   "id": "4c566eae",
   "metadata": {},
   "outputs": [],
   "source": [
    "import pandas as pd\n",
    "df=pd.read_csv(f'../dataset/raw/CleanDataset.csv')"
   ]
  },
  {
   "cell_type": "code",
   "execution_count": 43,
   "id": "25da238f",
   "metadata": {},
   "outputs": [
    {
     "data": {
      "text/plain": [
       "Attrition                           1.000000\n",
       "OverTime                            0.281113\n",
       "Designation_Executive               0.239871\n",
       "MaritalStatus_Single                0.219068\n",
       "Involvement                         0.144332\n",
       "JobSatisfaction                     0.126745\n",
       "TravelProfile_Yes                   0.123964\n",
       "EducationField_Engineer             0.090186\n",
       "HomeToWork                          0.086266\n",
       "Department_Sales                    0.078507\n",
       "EducationField_Marketing Diploma    0.070850\n",
       "NumCompaniesWorked                  0.049829\n",
       "Gender_M                            0.035902\n",
       "EducationField_MBA                  0.035813\n",
       "HourlnWeek                          0.021145\n",
       "WorkLifeBalance                     0.013608\n",
       "ESOPs                               0.012200\n",
       "Department_Marketing                0.010778\n",
       "SalaryHikelastYear                 -0.006778\n",
       "Unnamed: 0                         -0.023067\n",
       "EmployeeID                         -0.023067\n",
       "Designation_Senior Manager         -0.032605\n",
       "LastPromotion                      -0.038565\n",
       "EducationField_Statistics          -0.048031\n",
       "Gender_F                           -0.048519\n",
       "TravelProfile_Rarely               -0.051362\n",
       "EducationField_CA                  -0.052707\n",
       "Designation_VP                     -0.072545\n",
       "Department_Analytics               -0.114451\n",
       "Designation_AVP                    -0.115766\n",
       "Designation_Manager                -0.141719\n",
       "MaritalStatus_Married              -0.165064\n",
       "Age                                -0.180490\n",
       "CurrentProfile                     -0.198538\n",
       "MonthlyIncome                      -0.202379\n",
       "WorkExperience                     -0.216722\n",
       "Name: Attrition, dtype: float64"
      ]
     },
     "execution_count": 43,
     "metadata": {},
     "output_type": "execute_result"
    }
   ],
   "source": [
    "df.corr()['Attrition'].sort_values(ascending=False)"
   ]
  },
  {
   "cell_type": "code",
   "execution_count": 44,
   "id": "a8f915f6",
   "metadata": {},
   "outputs": [],
   "source": [
    "feature_to_drop=['Unnamed: 0','EmployeeID','Attrition','NumCompaniesWorked','Gender_M','EducationField_MBA','HourlnWeek','WorkLifeBalance','ESOPs','Department_Marketing','SalaryHikelastYear',\n",
    "'Designation_Senior Manager','LastPromotion','EducationField_Statistics','Gender_F','TravelProfile_Rarely','EducationField_CA']"
   ]
  },
  {
   "cell_type": "code",
   "execution_count": 45,
   "id": "6706f1f0",
   "metadata": {},
   "outputs": [
    {
     "name": "stdout",
     "output_type": "stream",
     "text": [
      "<class 'pandas.core.frame.DataFrame'>\n",
      "RangeIndex: 5180 entries, 0 to 5179\n",
      "Data columns (total 19 columns):\n",
      " #   Column                            Non-Null Count  Dtype  \n",
      "---  ------                            --------------  -----  \n",
      " 0   Age                               5180 non-null   float64\n",
      " 1   HomeToWork                        5180 non-null   float64\n",
      " 2   Involvement                       5180 non-null   int64  \n",
      " 3   JobSatisfaction                   5180 non-null   int64  \n",
      " 4   OverTime                          5180 non-null   int64  \n",
      " 5   WorkExperience                    5180 non-null   float64\n",
      " 6   CurrentProfile                    5180 non-null   float64\n",
      " 7   MonthlyIncome                     5180 non-null   float64\n",
      " 8   TravelProfile_Yes                 5180 non-null   int64  \n",
      " 9   Department_Analytics              5180 non-null   int64  \n",
      " 10  Department_Sales                  5180 non-null   int64  \n",
      " 11  EducationField_Engineer           5180 non-null   int64  \n",
      " 12  EducationField_Marketing Diploma  5180 non-null   int64  \n",
      " 13  Designation_AVP                   5180 non-null   int64  \n",
      " 14  Designation_Executive             5180 non-null   int64  \n",
      " 15  Designation_Manager               5180 non-null   int64  \n",
      " 16  Designation_VP                    5180 non-null   int64  \n",
      " 17  MaritalStatus_Married             5180 non-null   int64  \n",
      " 18  MaritalStatus_Single              5180 non-null   int64  \n",
      "dtypes: float64(5), int64(14)\n",
      "memory usage: 769.0 KB\n"
     ]
    }
   ],
   "source": [
    "X=df.drop(feature_to_drop,axis=1)\n",
    "X.info()"
   ]
  },
  {
   "cell_type": "code",
   "execution_count": 46,
   "id": "58ffa092",
   "metadata": {},
   "outputs": [],
   "source": [
    "y=df['Attrition']"
   ]
  },
  {
   "cell_type": "code",
   "execution_count": 47,
   "id": "c8e45fcc",
   "metadata": {},
   "outputs": [],
   "source": [
    "from sklearn.model_selection import train_test_split\n",
    "X_train,X_test,y_train,y_test=train_test_split(X,y,test_size=0.2,random_state=42)\n"
   ]
  },
  {
   "cell_type": "code",
   "execution_count": 48,
   "id": "ebe36b04",
   "metadata": {},
   "outputs": [],
   "source": [
    "from sklearn.preprocessing import StandardScaler\n",
    "scaler=StandardScaler()\n",
    "scaler.fit(X_train)\n",
    "X_train=scaler.transform(X_train)\n",
    "X_test=scaler.transform(X_test)"
   ]
  },
  {
   "cell_type": "code",
   "execution_count": 49,
   "id": "f40d556d",
   "metadata": {},
   "outputs": [],
   "source": [
    "import tensorflow.keras\n",
    "from tensorflow.keras.layers import Dense\n",
    "from tensorflow.keras.models import Sequential\n",
    "\n",
    "model=Sequential()\n",
    "model.add(Dense(100,activation='relu',input_dim=19))\n",
    "model.add(Dense(50,activation='relu'))\n",
    "model.add(Dense(25,activation='relu'))\n",
    "model.add(Dense(1,activation='sigmoid'))\n"
   ]
  },
  {
   "cell_type": "code",
   "execution_count": 50,
   "id": "52b7ab2b",
   "metadata": {},
   "outputs": [
    {
     "name": "stdout",
     "output_type": "stream",
     "text": [
      "Model: \"sequential_2\"\n",
      "_________________________________________________________________\n",
      " Layer (type)                Output Shape              Param #   \n",
      "=================================================================\n",
      " dense_7 (Dense)             (None, 100)               2000      \n",
      "                                                                 \n",
      " dense_8 (Dense)             (None, 50)                5050      \n",
      "                                                                 \n",
      " dense_9 (Dense)             (None, 25)                1275      \n",
      "                                                                 \n",
      " dense_10 (Dense)            (None, 1)                 26        \n",
      "                                                                 \n",
      "=================================================================\n",
      "Total params: 8351 (32.62 KB)\n",
      "Trainable params: 8351 (32.62 KB)\n",
      "Non-trainable params: 0 (0.00 Byte)\n",
      "_________________________________________________________________\n"
     ]
    }
   ],
   "source": [
    "model.summary()"
   ]
  },
  {
   "cell_type": "code",
   "execution_count": 51,
   "id": "60fb212f",
   "metadata": {},
   "outputs": [],
   "source": [
    "from tensorflow.keras.optimizers import Adam,SGD\n",
    "#optimizer = SGD(learning_rate=0.1)\n",
    "model.compile(optimizer='Adam',loss='binary_crossentropy',metrics=['accuracy'])"
   ]
  },
  {
   "cell_type": "code",
   "execution_count": 52,
   "id": "4feaefd7",
   "metadata": {
    "scrolled": true
   },
   "outputs": [
    {
     "name": "stdout",
     "output_type": "stream",
     "text": [
      "Epoch 1/50\n",
      "83/83 [==============================] - 2s 6ms/step - loss: 0.5200 - accuracy: 0.7503 - val_loss: 0.4393 - val_accuracy: 0.7998\n",
      "Epoch 2/50\n",
      "83/83 [==============================] - 0s 4ms/step - loss: 0.4210 - accuracy: 0.8169 - val_loss: 0.4212 - val_accuracy: 0.8095\n",
      "Epoch 3/50\n",
      "83/83 [==============================] - 0s 4ms/step - loss: 0.3977 - accuracy: 0.8279 - val_loss: 0.4045 - val_accuracy: 0.8175\n",
      "Epoch 4/50\n",
      "83/83 [==============================] - 0s 4ms/step - loss: 0.3733 - accuracy: 0.8421 - val_loss: 0.3969 - val_accuracy: 0.8240\n",
      "Epoch 5/50\n",
      "83/83 [==============================] - 0s 4ms/step - loss: 0.3488 - accuracy: 0.8528 - val_loss: 0.3787 - val_accuracy: 0.8368\n",
      "Epoch 6/50\n",
      "83/83 [==============================] - 0s 4ms/step - loss: 0.3286 - accuracy: 0.8617 - val_loss: 0.3498 - val_accuracy: 0.8416\n",
      "Epoch 7/50\n",
      "83/83 [==============================] - 0s 4ms/step - loss: 0.3026 - accuracy: 0.8748 - val_loss: 0.3382 - val_accuracy: 0.8513\n",
      "Epoch 8/50\n",
      "83/83 [==============================] - 0s 4ms/step - loss: 0.2789 - accuracy: 0.8821 - val_loss: 0.3547 - val_accuracy: 0.8513\n",
      "Epoch 9/50\n",
      "83/83 [==============================] - 0s 4ms/step - loss: 0.2659 - accuracy: 0.8872 - val_loss: 0.3130 - val_accuracy: 0.8722\n",
      "Epoch 10/50\n",
      "83/83 [==============================] - 0s 3ms/step - loss: 0.2358 - accuracy: 0.8979 - val_loss: 0.3048 - val_accuracy: 0.8650\n",
      "Epoch 11/50\n",
      "83/83 [==============================] - 0s 4ms/step - loss: 0.2158 - accuracy: 0.9138 - val_loss: 0.2858 - val_accuracy: 0.8762\n",
      "Epoch 12/50\n",
      "83/83 [==============================] - 0s 3ms/step - loss: 0.1993 - accuracy: 0.9176 - val_loss: 0.2891 - val_accuracy: 0.8826\n",
      "Epoch 13/50\n",
      "83/83 [==============================] - 0s 4ms/step - loss: 0.1841 - accuracy: 0.9248 - val_loss: 0.2853 - val_accuracy: 0.8939\n",
      "Epoch 14/50\n",
      "83/83 [==============================] - 0s 4ms/step - loss: 0.1672 - accuracy: 0.9310 - val_loss: 0.2670 - val_accuracy: 0.8971\n",
      "Epoch 15/50\n",
      "83/83 [==============================] - 0s 4ms/step - loss: 0.1538 - accuracy: 0.9417 - val_loss: 0.2507 - val_accuracy: 0.9076\n",
      "Epoch 16/50\n",
      "83/83 [==============================] - 0s 4ms/step - loss: 0.1422 - accuracy: 0.9462 - val_loss: 0.2391 - val_accuracy: 0.9188\n",
      "Epoch 17/50\n",
      "83/83 [==============================] - 0s 4ms/step - loss: 0.1287 - accuracy: 0.9545 - val_loss: 0.2451 - val_accuracy: 0.9116\n",
      "Epoch 18/50\n",
      "83/83 [==============================] - 0s 4ms/step - loss: 0.1173 - accuracy: 0.9569 - val_loss: 0.2359 - val_accuracy: 0.9180\n",
      "Epoch 19/50\n",
      "83/83 [==============================] - 0s 4ms/step - loss: 0.1112 - accuracy: 0.9607 - val_loss: 0.2311 - val_accuracy: 0.9309\n",
      "Epoch 20/50\n",
      "83/83 [==============================] - 0s 4ms/step - loss: 0.0972 - accuracy: 0.9662 - val_loss: 0.2285 - val_accuracy: 0.9309\n",
      "Epoch 21/50\n",
      "83/83 [==============================] - 0s 4ms/step - loss: 0.0878 - accuracy: 0.9700 - val_loss: 0.2387 - val_accuracy: 0.9244\n",
      "Epoch 22/50\n",
      "83/83 [==============================] - 0s 4ms/step - loss: 0.0818 - accuracy: 0.9731 - val_loss: 0.2287 - val_accuracy: 0.9333\n",
      "Epoch 23/50\n",
      "83/83 [==============================] - 0s 4ms/step - loss: 0.0775 - accuracy: 0.9721 - val_loss: 0.2338 - val_accuracy: 0.9285\n",
      "Epoch 24/50\n",
      "83/83 [==============================] - 0s 4ms/step - loss: 0.0806 - accuracy: 0.9738 - val_loss: 0.2383 - val_accuracy: 0.9333\n",
      "Epoch 25/50\n",
      "83/83 [==============================] - 0s 4ms/step - loss: 0.0633 - accuracy: 0.9824 - val_loss: 0.2481 - val_accuracy: 0.9397\n",
      "Epoch 26/50\n",
      "83/83 [==============================] - 0s 4ms/step - loss: 0.0672 - accuracy: 0.9769 - val_loss: 0.2287 - val_accuracy: 0.9381\n",
      "Epoch 27/50\n",
      "83/83 [==============================] - 0s 4ms/step - loss: 0.0520 - accuracy: 0.9831 - val_loss: 0.2255 - val_accuracy: 0.9421\n",
      "Epoch 28/50\n",
      "83/83 [==============================] - 0s 4ms/step - loss: 0.0517 - accuracy: 0.9817 - val_loss: 0.2337 - val_accuracy: 0.9405\n",
      "Epoch 29/50\n",
      "83/83 [==============================] - 0s 4ms/step - loss: 0.0465 - accuracy: 0.9866 - val_loss: 0.2375 - val_accuracy: 0.9421\n",
      "Epoch 30/50\n",
      "83/83 [==============================] - 0s 3ms/step - loss: 0.0406 - accuracy: 0.9879 - val_loss: 0.2478 - val_accuracy: 0.9405\n",
      "Epoch 31/50\n",
      "83/83 [==============================] - 0s 4ms/step - loss: 0.0390 - accuracy: 0.9855 - val_loss: 0.2628 - val_accuracy: 0.9357\n",
      "Epoch 32/50\n",
      "83/83 [==============================] - 0s 4ms/step - loss: 0.0519 - accuracy: 0.9824 - val_loss: 0.2596 - val_accuracy: 0.9389\n",
      "Epoch 33/50\n",
      "83/83 [==============================] - 0s 4ms/step - loss: 0.0383 - accuracy: 0.9893 - val_loss: 0.2776 - val_accuracy: 0.9405\n",
      "Epoch 34/50\n",
      "83/83 [==============================] - 0s 4ms/step - loss: 0.0441 - accuracy: 0.9838 - val_loss: 0.2621 - val_accuracy: 0.9389\n",
      "Epoch 35/50\n",
      "83/83 [==============================] - 0s 4ms/step - loss: 0.0510 - accuracy: 0.9821 - val_loss: 0.2724 - val_accuracy: 0.9397\n",
      "Epoch 36/50\n",
      "83/83 [==============================] - 0s 4ms/step - loss: 0.0420 - accuracy: 0.9838 - val_loss: 0.2622 - val_accuracy: 0.9437\n",
      "Epoch 37/50\n",
      "83/83 [==============================] - 0s 4ms/step - loss: 0.0343 - accuracy: 0.9910 - val_loss: 0.2496 - val_accuracy: 0.9397\n",
      "Epoch 38/50\n",
      "83/83 [==============================] - 0s 4ms/step - loss: 0.0266 - accuracy: 0.9924 - val_loss: 0.2709 - val_accuracy: 0.9429\n",
      "Epoch 39/50\n",
      "83/83 [==============================] - 0s 4ms/step - loss: 0.0242 - accuracy: 0.9928 - val_loss: 0.2864 - val_accuracy: 0.9405\n",
      "Epoch 40/50\n",
      "83/83 [==============================] - 0s 5ms/step - loss: 0.0297 - accuracy: 0.9903 - val_loss: 0.2707 - val_accuracy: 0.9349\n",
      "Epoch 41/50\n",
      "83/83 [==============================] - 0s 4ms/step - loss: 0.0198 - accuracy: 0.9955 - val_loss: 0.2689 - val_accuracy: 0.9445\n",
      "Epoch 42/50\n",
      "83/83 [==============================] - 0s 4ms/step - loss: 0.0206 - accuracy: 0.9948 - val_loss: 0.2667 - val_accuracy: 0.9477\n",
      "Epoch 43/50\n",
      "83/83 [==============================] - 0s 4ms/step - loss: 0.0266 - accuracy: 0.9903 - val_loss: 0.2653 - val_accuracy: 0.9477\n",
      "Epoch 44/50\n",
      "83/83 [==============================] - 0s 4ms/step - loss: 0.0196 - accuracy: 0.9938 - val_loss: 0.2993 - val_accuracy: 0.9477\n",
      "Epoch 45/50\n",
      "83/83 [==============================] - 0s 4ms/step - loss: 0.0184 - accuracy: 0.9948 - val_loss: 0.2838 - val_accuracy: 0.9429\n",
      "Epoch 46/50\n",
      "83/83 [==============================] - 0s 4ms/step - loss: 0.0168 - accuracy: 0.9955 - val_loss: 0.3023 - val_accuracy: 0.9477\n",
      "Epoch 47/50\n",
      "83/83 [==============================] - 0s 4ms/step - loss: 0.0216 - accuracy: 0.9928 - val_loss: 0.3175 - val_accuracy: 0.9429\n",
      "Epoch 48/50\n",
      "83/83 [==============================] - 0s 4ms/step - loss: 0.0184 - accuracy: 0.9931 - val_loss: 0.3070 - val_accuracy: 0.9510\n",
      "Epoch 49/50\n",
      "83/83 [==============================] - 0s 4ms/step - loss: 0.0325 - accuracy: 0.9907 - val_loss: 0.3390 - val_accuracy: 0.9349\n",
      "Epoch 50/50\n",
      "83/83 [==============================] - 0s 4ms/step - loss: 0.0329 - accuracy: 0.9893 - val_loss: 0.2978 - val_accuracy: 0.9486\n"
     ]
    }
   ],
   "source": [
    "epochs_hist=model.fit(X_train,y_train,epochs=50,batch_size=35,verbose=1,validation_split=0.30)"
   ]
  },
  {
   "cell_type": "code",
   "execution_count": 53,
   "id": "d028b5d6",
   "metadata": {},
   "outputs": [],
   "source": [
    "df=pd.DataFrame(epochs_hist.history)"
   ]
  },
  {
   "cell_type": "code",
   "execution_count": 54,
   "id": "f3849023",
   "metadata": {},
   "outputs": [
    {
     "data": {
      "text/plain": [
       "<Axes: >"
      ]
     },
     "execution_count": 54,
     "metadata": {},
     "output_type": "execute_result"
    },
    {
     "data": {
      "image/png": "[encoded data removed]",
      "text/plain": [
       "<Figure size 640x480 with 1 Axes>"
      ]
     },
     "metadata": {},
     "output_type": "display_data"
    }
   ],
   "source": [
    "df.plot()"
   ]
  },
  {
   "cell_type": "code",
   "execution_count": 55,
   "id": "9ad4e8ff",
   "metadata": {},
   "outputs": [
    {
     "name": "stdout",
     "output_type": "stream",
     "text": [
      "33/33 [==============================] - 0s 2ms/step\n"
     ]
    }
   ],
   "source": [
    "y_nn_pred=model.predict(X_test)"
   ]
  },
  {
   "cell_type": "code",
   "execution_count": 56,
   "id": "2a284584",
   "metadata": {},
   "outputs": [],
   "source": [
    "import numpy as np\n",
    "y_m_prd=np.argmax(y_nn_pred,axis=1)"
   ]
  },
  {
   "cell_type": "code",
   "execution_count": 57,
   "id": "3e89f424",
   "metadata": {},
   "outputs": [
    {
     "data": {
      "text/plain": [
       "array([[4.9694595e-06],\n",
       "       [6.2401623e-01],\n",
       "       [1.0000000e+00],\n",
       "       ...,\n",
       "       [5.5837359e-19],\n",
       "       [1.6881078e-06],\n",
       "       [1.0112970e-02]], dtype=float32)"
      ]
     },
     "execution_count": 57,
     "metadata": {},
     "output_type": "execute_result"
    }
   ],
   "source": [
    "y_nn_pred"
   ]
  },
  {
   "cell_type": "code",
   "execution_count": 58,
   "id": "85d7d19b",
   "metadata": {},
   "outputs": [
    {
     "name": "stdout",
     "output_type": "stream",
     "text": [
      "[[0]\n",
      " [1]\n",
      " [1]\n",
      " ...\n",
      " [0]\n",
      " [0]\n",
      " [0]]\n"
     ]
    }
   ],
   "source": [
    "thresholded_array = (y_nn_pred > 0.6).astype(int)\n",
    "\n",
    "print(thresholded_array)"
   ]
  },
  {
   "cell_type": "code",
   "execution_count": 59,
   "id": "3345819b",
   "metadata": {},
   "outputs": [
    {
     "name": "stdout",
     "output_type": "stream",
     "text": [
      "Number of 1s: 289\n",
      "Number of 0s: 747\n"
     ]
    }
   ],
   "source": [
    "count_ones = np.sum(thresholded_array)  # Sum of the array gives count of 1s\n",
    "count_zeros = thresholded_array.size - count_ones  # Total elements - count of 1s\n",
    "\n",
    "print(f\"Number of 1s: {count_ones}\")\n",
    "print(f\"Number of 0s: {count_zeros}\")"
   ]
  },
  {
   "cell_type": "code",
   "execution_count": 60,
   "id": "ca5a14ce",
   "metadata": {},
   "outputs": [
    {
     "name": "stdout",
     "output_type": "stream",
     "text": [
      "33/33 [==============================] - 0s 2ms/step\n",
      "3.182313e-22 1.0\n"
     ]
    }
   ],
   "source": [
    "logits = model.predict(X_test)  # Without activation\n",
    "print(logits.min(), logits.max())\n"
   ]
  },
  {
   "cell_type": "code",
   "execution_count": 61,
   "id": "7aadb5eb",
   "metadata": {},
   "outputs": [
    {
     "data": {
      "text/plain": [
       "0.9059233449477352"
      ]
     },
     "execution_count": 61,
     "metadata": {},
     "output_type": "execute_result"
    }
   ],
   "source": [
    "from sklearn.metrics import f1_score,confusion_matrix\n",
    "f1_score(y_test,thresholded_array)"
   ]
  },
  {
   "cell_type": "code",
   "execution_count": 62,
   "id": "bbbe77e4",
   "metadata": {},
   "outputs": [
    {
     "data": {
      "text/plain": [
       "array([[722,  29],\n",
       "       [ 25, 260]], dtype=int64)"
      ]
     },
     "execution_count": 62,
     "metadata": {},
     "output_type": "execute_result"
    }
   ],
   "source": [
    "confusion_matrix(y_test,thresholded_array)"
   ]
  },
  {
   "cell_type": "code",
   "execution_count": null,
   "id": "71538ae4",
   "metadata": {},
   "outputs": [],
   "source": []
  }
 ],
 "metadata": {
  "kernelspec": {
   "display_name": "Python 3 (ipykernel)",
   "language": "python",
   "name": "python3"
  },
  "language_info": {
   "codemirror_mode": {
    "name": "ipython",
    "version": 3
   },
   "file_extension": ".py",
   "mimetype": "text/x-python",
   "name": "python",
   "nbconvert_exporter": "python",
   "pygments_lexer": "ipython3",
   "version": "3.11.4"
  }
 },
 "nbformat": 4,
 "nbformat_minor": 5
}
